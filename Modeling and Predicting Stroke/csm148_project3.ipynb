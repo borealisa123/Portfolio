{
 "cells": [
  {
   "cell_type": "markdown",
   "metadata": {},
   "source": [
    "# CSM148 Project 3"
   ]
  },
  {
   "cell_type": "markdown",
   "metadata": {},
   "source": [
    "## Dataset Atribute Information"
   ]
  },
  {
   "cell_type": "markdown",
   "metadata": {},
   "source": [
    "<ul>\n",
    "    <li><b>id:</b> unique identifier</li>\n",
    "    <li><b>gender:</b> \"Male\", \"Female\" or \"Other\"</li>\n",
    "    <li><b>age:</b> age of the patient</li>\n",
    "    <li><b>hypertension:</b> 0 if the patient doesn't have hypertension, 1 if the patient has hypertension</li>\n",
    "    <li><b>heart_disease:</b> 0 if the patient doesn't have any heart diseases, 1 if the patient has a heart disease</li>\n",
    "    <li><b>ever_married</b> \"No\" or \"Yes\"</li>\n",
    "    <li><b>work_type:</b> \"children\", \"Govt_jov\", \"Never_worked\",\"Private\" or \"Self-employed\"</li>\n",
    "    <li><b>Residence_type:</b> \"Rural\" or \"Urban\"</li>\n",
    "    <li><b>avg_glucose_level:</b> average glucose level in blood</li>\n",
    "    <li><b>bmi:</b> body mass index</li>\n",
    "    <li><b>smoking_status:</b> \"formerly smoked\", \"never smoked\",\"smokes\" or \"Unknown\"*)</li>\n",
    "    <li><b>stroke:</b> 1 if the patient had a stroke or 0 if not</li>\n",
    "</ul>\n",
    "    \n"
   ]
  },
  {
   "cell_type": "markdown",
   "metadata": {},
   "source": [
    "## Loading Essentials and Helper Functions "
   ]
  },
  {
   "cell_type": "code",
   "execution_count": 1,
   "metadata": {},
   "outputs": [],
   "source": [
    "import numpy as np # linear algebra\n",
    "import pandas as pd # data processing, CSV file I/O (e.g. pd.read_csv)\n",
    "import matplotlib.pyplot as plt # this is used for the plot the graph \n",
    "from sklearn import metrics"
   ]
  },
  {
   "cell_type": "code",
   "execution_count": 2,
   "metadata": {},
   "outputs": [],
   "source": [
    "from sklearn.metrics import confusion_matrix\n",
    "import itertools\n",
    "\n",
    "# Helper function that allows you to draw nicely formatted confusion matrices\n",
    "def draw_confusion_matrix(y, yhat, classes):\n",
    "    '''\n",
    "        Draws a confusion matrix for the given target and predictions\n",
    "        Adapted from scikit-learn and discussion example.\n",
    "    '''\n",
    "    plt.cla()\n",
    "    plt.clf()\n",
    "    matrix = confusion_matrix(y, yhat)\n",
    "    plt.imshow(matrix, interpolation='nearest', cmap=plt.cm.Blues)\n",
    "    plt.title(\"Confusion Matrix\")\n",
    "    plt.colorbar()\n",
    "    num_classes = len(classes)\n",
    "    plt.xticks(np.arange(num_classes), classes, rotation=90)\n",
    "    plt.yticks(np.arange(num_classes), classes)\n",
    "    \n",
    "    fmt = 'd'\n",
    "    thresh = matrix.max() / 2.\n",
    "    for i, j in itertools.product(range(matrix.shape[0]), range(matrix.shape[1])):\n",
    "        plt.text(j, i, format(matrix[i, j], fmt),\n",
    "                 horizontalalignment=\"center\",\n",
    "                 color=\"white\" if matrix[i, j] > thresh else \"black\")\n",
    "\n",
    "    plt.ylabel('True label')\n",
    "    plt.xlabel('Predicted label')\n",
    "    plt.tight_layout()\n",
    "    plt.show()"
   ]
  },
  {
   "cell_type": "markdown",
   "metadata": {},
   "source": [
    "## 1. Load and View Data"
   ]
  },
  {
   "cell_type": "code",
   "execution_count": 3,
   "metadata": {},
   "outputs": [],
   "source": [
    "dataset = pd.read_csv(\"healthcare-dataset-stroke-data.csv\")"
   ]
  },
  {
   "cell_type": "code",
   "execution_count": 4,
   "metadata": {},
   "outputs": [
    {
     "data": {
      "text/html": [
       "<div>\n",
       "<style scoped>\n",
       "    .dataframe tbody tr th:only-of-type {\n",
       "        vertical-align: middle;\n",
       "    }\n",
       "\n",
       "    .dataframe tbody tr th {\n",
       "        vertical-align: top;\n",
       "    }\n",
       "\n",
       "    .dataframe thead th {\n",
       "        text-align: right;\n",
       "    }\n",
       "</style>\n",
       "<table border=\"1\" class=\"dataframe\">\n",
       "  <thead>\n",
       "    <tr style=\"text-align: right;\">\n",
       "      <th></th>\n",
       "      <th>id</th>\n",
       "      <th>gender</th>\n",
       "      <th>age</th>\n",
       "      <th>hypertension</th>\n",
       "      <th>heart_disease</th>\n",
       "      <th>ever_married</th>\n",
       "      <th>work_type</th>\n",
       "      <th>Residence_type</th>\n",
       "      <th>avg_glucose_level</th>\n",
       "      <th>bmi</th>\n",
       "      <th>smoking_status</th>\n",
       "      <th>stroke</th>\n",
       "    </tr>\n",
       "  </thead>\n",
       "  <tbody>\n",
       "    <tr>\n",
       "      <th>0</th>\n",
       "      <td>9046</td>\n",
       "      <td>Male</td>\n",
       "      <td>67.0</td>\n",
       "      <td>0</td>\n",
       "      <td>1</td>\n",
       "      <td>Yes</td>\n",
       "      <td>Private</td>\n",
       "      <td>Urban</td>\n",
       "      <td>228.69</td>\n",
       "      <td>36.6</td>\n",
       "      <td>formerly smoked</td>\n",
       "      <td>1</td>\n",
       "    </tr>\n",
       "    <tr>\n",
       "      <th>1</th>\n",
       "      <td>51676</td>\n",
       "      <td>Female</td>\n",
       "      <td>61.0</td>\n",
       "      <td>0</td>\n",
       "      <td>0</td>\n",
       "      <td>Yes</td>\n",
       "      <td>Self-employed</td>\n",
       "      <td>Rural</td>\n",
       "      <td>202.21</td>\n",
       "      <td>NaN</td>\n",
       "      <td>never smoked</td>\n",
       "      <td>1</td>\n",
       "    </tr>\n",
       "    <tr>\n",
       "      <th>2</th>\n",
       "      <td>31112</td>\n",
       "      <td>Male</td>\n",
       "      <td>80.0</td>\n",
       "      <td>0</td>\n",
       "      <td>1</td>\n",
       "      <td>Yes</td>\n",
       "      <td>Private</td>\n",
       "      <td>Rural</td>\n",
       "      <td>105.92</td>\n",
       "      <td>32.5</td>\n",
       "      <td>never smoked</td>\n",
       "      <td>1</td>\n",
       "    </tr>\n",
       "    <tr>\n",
       "      <th>3</th>\n",
       "      <td>60182</td>\n",
       "      <td>Female</td>\n",
       "      <td>49.0</td>\n",
       "      <td>0</td>\n",
       "      <td>0</td>\n",
       "      <td>Yes</td>\n",
       "      <td>Private</td>\n",
       "      <td>Urban</td>\n",
       "      <td>171.23</td>\n",
       "      <td>34.4</td>\n",
       "      <td>smokes</td>\n",
       "      <td>1</td>\n",
       "    </tr>\n",
       "    <tr>\n",
       "      <th>4</th>\n",
       "      <td>1665</td>\n",
       "      <td>Female</td>\n",
       "      <td>79.0</td>\n",
       "      <td>1</td>\n",
       "      <td>0</td>\n",
       "      <td>Yes</td>\n",
       "      <td>Self-employed</td>\n",
       "      <td>Rural</td>\n",
       "      <td>174.12</td>\n",
       "      <td>24.0</td>\n",
       "      <td>never smoked</td>\n",
       "      <td>1</td>\n",
       "    </tr>\n",
       "    <tr>\n",
       "      <th>...</th>\n",
       "      <td>...</td>\n",
       "      <td>...</td>\n",
       "      <td>...</td>\n",
       "      <td>...</td>\n",
       "      <td>...</td>\n",
       "      <td>...</td>\n",
       "      <td>...</td>\n",
       "      <td>...</td>\n",
       "      <td>...</td>\n",
       "      <td>...</td>\n",
       "      <td>...</td>\n",
       "      <td>...</td>\n",
       "    </tr>\n",
       "    <tr>\n",
       "      <th>5105</th>\n",
       "      <td>18234</td>\n",
       "      <td>Female</td>\n",
       "      <td>80.0</td>\n",
       "      <td>1</td>\n",
       "      <td>0</td>\n",
       "      <td>Yes</td>\n",
       "      <td>Private</td>\n",
       "      <td>Urban</td>\n",
       "      <td>83.75</td>\n",
       "      <td>NaN</td>\n",
       "      <td>never smoked</td>\n",
       "      <td>0</td>\n",
       "    </tr>\n",
       "    <tr>\n",
       "      <th>5106</th>\n",
       "      <td>44873</td>\n",
       "      <td>Female</td>\n",
       "      <td>81.0</td>\n",
       "      <td>0</td>\n",
       "      <td>0</td>\n",
       "      <td>Yes</td>\n",
       "      <td>Self-employed</td>\n",
       "      <td>Urban</td>\n",
       "      <td>125.20</td>\n",
       "      <td>40.0</td>\n",
       "      <td>never smoked</td>\n",
       "      <td>0</td>\n",
       "    </tr>\n",
       "    <tr>\n",
       "      <th>5107</th>\n",
       "      <td>19723</td>\n",
       "      <td>Female</td>\n",
       "      <td>35.0</td>\n",
       "      <td>0</td>\n",
       "      <td>0</td>\n",
       "      <td>Yes</td>\n",
       "      <td>Self-employed</td>\n",
       "      <td>Rural</td>\n",
       "      <td>82.99</td>\n",
       "      <td>30.6</td>\n",
       "      <td>never smoked</td>\n",
       "      <td>0</td>\n",
       "    </tr>\n",
       "    <tr>\n",
       "      <th>5108</th>\n",
       "      <td>37544</td>\n",
       "      <td>Male</td>\n",
       "      <td>51.0</td>\n",
       "      <td>0</td>\n",
       "      <td>0</td>\n",
       "      <td>Yes</td>\n",
       "      <td>Private</td>\n",
       "      <td>Rural</td>\n",
       "      <td>166.29</td>\n",
       "      <td>25.6</td>\n",
       "      <td>formerly smoked</td>\n",
       "      <td>0</td>\n",
       "    </tr>\n",
       "    <tr>\n",
       "      <th>5109</th>\n",
       "      <td>44679</td>\n",
       "      <td>Female</td>\n",
       "      <td>44.0</td>\n",
       "      <td>0</td>\n",
       "      <td>0</td>\n",
       "      <td>Yes</td>\n",
       "      <td>Govt_job</td>\n",
       "      <td>Urban</td>\n",
       "      <td>85.28</td>\n",
       "      <td>26.2</td>\n",
       "      <td>Unknown</td>\n",
       "      <td>0</td>\n",
       "    </tr>\n",
       "  </tbody>\n",
       "</table>\n",
       "<p>5110 rows × 12 columns</p>\n",
       "</div>"
      ],
      "text/plain": [
       "         id  gender   age  hypertension  heart_disease ever_married  \\\n",
       "0      9046    Male  67.0             0              1          Yes   \n",
       "1     51676  Female  61.0             0              0          Yes   \n",
       "2     31112    Male  80.0             0              1          Yes   \n",
       "3     60182  Female  49.0             0              0          Yes   \n",
       "4      1665  Female  79.0             1              0          Yes   \n",
       "...     ...     ...   ...           ...            ...          ...   \n",
       "5105  18234  Female  80.0             1              0          Yes   \n",
       "5106  44873  Female  81.0             0              0          Yes   \n",
       "5107  19723  Female  35.0             0              0          Yes   \n",
       "5108  37544    Male  51.0             0              0          Yes   \n",
       "5109  44679  Female  44.0             0              0          Yes   \n",
       "\n",
       "          work_type Residence_type  avg_glucose_level   bmi   smoking_status  \\\n",
       "0           Private          Urban             228.69  36.6  formerly smoked   \n",
       "1     Self-employed          Rural             202.21   NaN     never smoked   \n",
       "2           Private          Rural             105.92  32.5     never smoked   \n",
       "3           Private          Urban             171.23  34.4           smokes   \n",
       "4     Self-employed          Rural             174.12  24.0     never smoked   \n",
       "...             ...            ...                ...   ...              ...   \n",
       "5105        Private          Urban              83.75   NaN     never smoked   \n",
       "5106  Self-employed          Urban             125.20  40.0     never smoked   \n",
       "5107  Self-employed          Rural              82.99  30.6     never smoked   \n",
       "5108        Private          Rural             166.29  25.6  formerly smoked   \n",
       "5109       Govt_job          Urban              85.28  26.2          Unknown   \n",
       "\n",
       "      stroke  \n",
       "0          1  \n",
       "1          1  \n",
       "2          1  \n",
       "3          1  \n",
       "4          1  \n",
       "...      ...  \n",
       "5105       0  \n",
       "5106       0  \n",
       "5107       0  \n",
       "5108       0  \n",
       "5109       0  \n",
       "\n",
       "[5110 rows x 12 columns]"
      ]
     },
     "execution_count": 4,
     "metadata": {},
     "output_type": "execute_result"
    }
   ],
   "source": [
    "y = dataset['stroke']\n",
    "x = dataset.drop(['stroke', 'id'], axis=1)\n",
    "dataset"
   ]
  },
  {
   "cell_type": "code",
   "execution_count": 5,
   "metadata": {
    "scrolled": true
   },
   "outputs": [
    {
     "name": "stdout",
     "output_type": "stream",
     "text": [
      "<class 'pandas.core.frame.DataFrame'>\n",
      "RangeIndex: 5110 entries, 0 to 5109\n",
      "Data columns (total 12 columns):\n",
      " #   Column             Non-Null Count  Dtype  \n",
      "---  ------             --------------  -----  \n",
      " 0   id                 5110 non-null   int64  \n",
      " 1   gender             5110 non-null   object \n",
      " 2   age                5110 non-null   float64\n",
      " 3   hypertension       5110 non-null   int64  \n",
      " 4   heart_disease      5110 non-null   int64  \n",
      " 5   ever_married       5110 non-null   object \n",
      " 6   work_type          5110 non-null   object \n",
      " 7   Residence_type     5110 non-null   object \n",
      " 8   avg_glucose_level  5110 non-null   float64\n",
      " 9   bmi                4909 non-null   float64\n",
      " 10  smoking_status     5110 non-null   object \n",
      " 11  stroke             5110 non-null   int64  \n",
      "dtypes: float64(3), int64(4), object(5)\n",
      "memory usage: 479.2+ KB\n"
     ]
    }
   ],
   "source": [
    "dataset.info()"
   ]
  },
  {
   "cell_type": "code",
   "execution_count": 6,
   "metadata": {},
   "outputs": [
    {
     "data": {
      "image/png": "[encoded data removed]",
      "text/plain": [
       "<Figure size 864x576 with 16 Axes>"
      ]
     },
     "metadata": {
      "needs_background": "light"
     },
     "output_type": "display_data"
    }
   ],
   "source": [
    "# correlation matrices of float features\n",
    "\n",
    "from pandas.plotting import scatter_matrix\n",
    "\n",
    "\n",
    "attributes = [\"age\", \"avg_glucose_level\", \"bmi\", \"stroke\"]\n",
    "scatter_matrix(dataset[attributes], figsize=(12, 8))\n",
    "plt.show()"
   ]
  },
  {
   "cell_type": "code",
   "execution_count": 7,
   "metadata": {},
   "outputs": [
    {
     "data": {
      "text/plain": [
       "array([[<AxesSubplot:title={'center':'age'}>,\n",
       "        <AxesSubplot:title={'center':'hypertension'}>],\n",
       "       [<AxesSubplot:title={'center':'heart_disease'}>,\n",
       "        <AxesSubplot:title={'center':'avg_glucose_level'}>],\n",
       "       [<AxesSubplot:title={'center':'bmi'}>, <AxesSubplot:>]],\n",
       "      dtype=object)"
      ]
     },
     "execution_count": 7,
     "metadata": {},
     "output_type": "execute_result"
    },
    {
     "data": {
      "image/png": "[encoded data removed]",
      "text/plain": [
       "<Figure size 1440x1080 with 6 Axes>"
      ]
     },
     "metadata": {
      "needs_background": "light"
     },
     "output_type": "display_data"
    }
   ],
   "source": [
    "# histograms of all numeric features\n",
    "\n",
    "x.hist(bins=20, figsize=(20,15))"
   ]
  },
  {
   "cell_type": "code",
   "execution_count": 8,
   "metadata": {},
   "outputs": [
    {
     "data": {
      "text/plain": [
       "<AxesSubplot:>"
      ]
     },
     "execution_count": 8,
     "metadata": {},
     "output_type": "execute_result"
    },
    {
     "data": {
      "image/png": "[encoded data removed]",
      "text/plain": [
       "<Figure size 432x288 with 1 Axes>"
      ]
     },
     "metadata": {
      "needs_background": "light"
     },
     "output_type": "display_data"
    },
    {
     "data": {
      "image/png": "[encoded data removed]",
      "text/plain": [
       "<Figure size 432x288 with 1 Axes>"
      ]
     },
     "metadata": {
      "needs_background": "light"
     },
     "output_type": "display_data"
    },
    {
     "data": {
      "image/png": "[encoded data removed]",
      "text/plain": [
       "<Figure size 432x288 with 1 Axes>"
      ]
     },
     "metadata": {
      "needs_background": "light"
     },
     "output_type": "display_data"
    },
    {
     "data": {
      "image/png": "[encoded data removed]",
      "text/plain": [
       "<Figure size 432x288 with 1 Axes>"
      ]
     },
     "metadata": {
      "needs_background": "light"
     },
     "output_type": "display_data"
    },
    {
     "data": {
      "image/png": "[encoded data removed]",
      "text/plain": [
       "<Figure size 432x288 with 1 Axes>"
      ]
     },
     "metadata": {
      "needs_background": "light"
     },
     "output_type": "display_data"
    }
   ],
   "source": [
    "# bar graphs of all categorical features\n",
    "# https://stackoverflow.com/questions/31029560/plotting-categorical-data-with-pandas-and-matplotlib\n",
    "x['gender'].value_counts().plot(kind='bar')\n",
    "plt.figure()\n",
    "x['ever_married'].value_counts().plot(kind='bar')\n",
    "plt.figure()\n",
    "x['work_type'].value_counts().plot(kind='bar')\n",
    "plt.figure()\n",
    "x['Residence_type'].value_counts().plot(kind='bar')\n",
    "plt.figure()\n",
    "x['smoking_status'].value_counts().plot(kind='bar')"
   ]
  },
  {
   "cell_type": "markdown",
   "metadata": {},
   "source": [
    "## 2. Process Data"
   ]
  },
  {
   "cell_type": "code",
   "execution_count": 9,
   "metadata": {},
   "outputs": [],
   "source": [
    "# 2d feature cross - divide avg_glucose_level by age\n",
    "\n",
    "from sklearn.base import BaseEstimator, TransformerMixin\n",
    "\n",
    "class AugmentFeatures(BaseEstimator, TransformerMixin):\n",
    "    '''\n",
    "    implements the previous features we had defined\n",
    "    '''\n",
    "    def __init__(self): # nothing\n",
    "        pass # https://stackoverflow.com/questions/42884795/python-empty-constructor\n",
    "    \n",
    "    def fit(self, X, y=None):\n",
    "        return self  # nothing else to do\n",
    "\n",
    "    def transform(self, X):\n",
    "        augmented_feature = X[:, feature2_idx] * X[:, feature1_idx]\n",
    "        \n",
    "        return np.c_[X, augmented_feature]"
   ]
  },
  {
   "cell_type": "code",
   "execution_count": 10,
   "metadata": {},
   "outputs": [],
   "source": [
    "# 2b, 2c, 2e, 2f pipeline\n",
    "# https://scikit-learn.org/stable/modules/preprocessing.html#encoding-categorical-features\n",
    "\n",
    "from sklearn.pipeline import Pipeline\n",
    "from sklearn.impute import SimpleImputer\n",
    "from sklearn.preprocessing import StandardScaler, OneHotEncoder, OrdinalEncoder\n",
    "from sklearn.compose import ColumnTransformer, make_column_transformer\n",
    "\n",
    "\n",
    "# numeric pipeline\n",
    "num_data = x.drop(['gender', 'ever_married', 'work_type', \\\n",
    "                   'Residence_type', 'smoking_status'], axis=1)\n",
    "\n",
    "feature1_idx = num_data.columns.get_loc(\"age\")\n",
    "feature2_idx = num_data.columns.get_loc(\"bmi\")\n",
    "\n",
    "num_pipeline = Pipeline([\n",
    "    ('imputer', SimpleImputer(strategy=\"median\")),\n",
    "    ('attribs_adder', AugmentFeatures()),\n",
    "    ('std_scaler', StandardScaler()),\n",
    "])\n",
    "data_num_tr = num_pipeline.fit_transform(num_data)\n",
    "\n",
    "# convert ever_married, work_type, residence_type to one-hot encoding\n",
    "# convert smoking_status to ordinal encoding\n",
    "numeric = list(num_data)\n",
    "one_hot = ['gender', 'work_type']\n",
    "ordinal = ['ever_married', 'Residence_type']\n",
    "smoke = ['smoking_status']\n",
    "smoking_cat = ['never smoked', 'formerly smoked', 'smokes', 'Unknown']\n",
    "\n",
    "# full pipeline\n",
    "# https://scikit-learn.org/stable/modules/generated/sklearn.preprocessing.OrdinalEncoder.html\n",
    "full_pipeline = ColumnTransformer([\n",
    "    (\"num\", num_pipeline, numeric),\n",
    "    (\"onehot\", OneHotEncoder(), one_hot),\n",
    "    (\"smoke\", OrdinalEncoder(categories=[smoking_cat]), smoke),\n",
    "    (\"ord\", OrdinalEncoder(), ordinal),\n",
    "])\n",
    "data_prepared = full_pipeline.fit_transform(x)"
   ]
  },
  {
   "cell_type": "code",
   "execution_count": 11,
   "metadata": {},
   "outputs": [
    {
     "data": {
      "text/plain": [
       "array([ 0.25534165, -0.32860186, -0.2389468 ,  1.4373581 ,  0.71932748,\n",
       "        0.50051201,  1.        ,  0.        ,  0.        ,  0.        ,\n",
       "        0.        ,  1.        ,  0.        ,  0.        ,  2.        ,\n",
       "        1.        ,  1.        ])"
      ]
     },
     "execution_count": 11,
     "metadata": {},
     "output_type": "execute_result"
    }
   ],
   "source": [
    "data_prepared[3]"
   ]
  },
  {
   "cell_type": "code",
   "execution_count": 12,
   "metadata": {},
   "outputs": [
    {
     "data": {
      "text/html": [
       "<div>\n",
       "<style scoped>\n",
       "    .dataframe tbody tr th:only-of-type {\n",
       "        vertical-align: middle;\n",
       "    }\n",
       "\n",
       "    .dataframe tbody tr th {\n",
       "        vertical-align: top;\n",
       "    }\n",
       "\n",
       "    .dataframe thead th {\n",
       "        text-align: right;\n",
       "    }\n",
       "</style>\n",
       "<table border=\"1\" class=\"dataframe\">\n",
       "  <thead>\n",
       "    <tr style=\"text-align: right;\">\n",
       "      <th></th>\n",
       "      <th>gender</th>\n",
       "      <th>age</th>\n",
       "      <th>hypertension</th>\n",
       "      <th>heart_disease</th>\n",
       "      <th>ever_married</th>\n",
       "      <th>work_type</th>\n",
       "      <th>Residence_type</th>\n",
       "      <th>avg_glucose_level</th>\n",
       "      <th>bmi</th>\n",
       "      <th>smoking_status</th>\n",
       "    </tr>\n",
       "  </thead>\n",
       "  <tbody>\n",
       "    <tr>\n",
       "      <th>0</th>\n",
       "      <td>Male</td>\n",
       "      <td>67.0</td>\n",
       "      <td>0</td>\n",
       "      <td>1</td>\n",
       "      <td>Yes</td>\n",
       "      <td>Private</td>\n",
       "      <td>Urban</td>\n",
       "      <td>228.69</td>\n",
       "      <td>36.6</td>\n",
       "      <td>formerly smoked</td>\n",
       "    </tr>\n",
       "    <tr>\n",
       "      <th>1</th>\n",
       "      <td>Female</td>\n",
       "      <td>61.0</td>\n",
       "      <td>0</td>\n",
       "      <td>0</td>\n",
       "      <td>Yes</td>\n",
       "      <td>Self-employed</td>\n",
       "      <td>Rural</td>\n",
       "      <td>202.21</td>\n",
       "      <td>NaN</td>\n",
       "      <td>never smoked</td>\n",
       "    </tr>\n",
       "    <tr>\n",
       "      <th>2</th>\n",
       "      <td>Male</td>\n",
       "      <td>80.0</td>\n",
       "      <td>0</td>\n",
       "      <td>1</td>\n",
       "      <td>Yes</td>\n",
       "      <td>Private</td>\n",
       "      <td>Rural</td>\n",
       "      <td>105.92</td>\n",
       "      <td>32.5</td>\n",
       "      <td>never smoked</td>\n",
       "    </tr>\n",
       "    <tr>\n",
       "      <th>3</th>\n",
       "      <td>Female</td>\n",
       "      <td>49.0</td>\n",
       "      <td>0</td>\n",
       "      <td>0</td>\n",
       "      <td>Yes</td>\n",
       "      <td>Private</td>\n",
       "      <td>Urban</td>\n",
       "      <td>171.23</td>\n",
       "      <td>34.4</td>\n",
       "      <td>smokes</td>\n",
       "    </tr>\n",
       "    <tr>\n",
       "      <th>4</th>\n",
       "      <td>Female</td>\n",
       "      <td>79.0</td>\n",
       "      <td>1</td>\n",
       "      <td>0</td>\n",
       "      <td>Yes</td>\n",
       "      <td>Self-employed</td>\n",
       "      <td>Rural</td>\n",
       "      <td>174.12</td>\n",
       "      <td>24.0</td>\n",
       "      <td>never smoked</td>\n",
       "    </tr>\n",
       "  </tbody>\n",
       "</table>\n",
       "</div>"
      ],
      "text/plain": [
       "   gender   age  hypertension  heart_disease ever_married      work_type  \\\n",
       "0    Male  67.0             0              1          Yes        Private   \n",
       "1  Female  61.0             0              0          Yes  Self-employed   \n",
       "2    Male  80.0             0              1          Yes        Private   \n",
       "3  Female  49.0             0              0          Yes        Private   \n",
       "4  Female  79.0             1              0          Yes  Self-employed   \n",
       "\n",
       "  Residence_type  avg_glucose_level   bmi   smoking_status  \n",
       "0          Urban             228.69  36.6  formerly smoked  \n",
       "1          Rural             202.21   NaN     never smoked  \n",
       "2          Rural             105.92  32.5     never smoked  \n",
       "3          Urban             171.23  34.4           smokes  \n",
       "4          Rural             174.12  24.0     never smoked  "
      ]
     },
     "execution_count": 12,
     "metadata": {},
     "output_type": "execute_result"
    }
   ],
   "source": [
    "x.head()"
   ]
  },
  {
   "cell_type": "code",
   "execution_count": 13,
   "metadata": {
    "scrolled": true
   },
   "outputs": [
    {
     "name": "stdout",
     "output_type": "stream",
     "text": [
      "(4088, 17) (4088,)\n",
      "(1022, 17) (1022,)\n",
      "195\n",
      "54\n"
     ]
    }
   ],
   "source": [
    "from sklearn.model_selection import train_test_split\n",
    "X_train, X_test, y_train, y_test = train_test_split( \\\n",
    "    data_prepared, y, test_size=0.2, random_state=0)\n",
    "\n",
    "print (X_train.shape, y_train.shape)\n",
    "print (X_test.shape, y_test.shape)\n",
    "print (y_train.sum())\n",
    "print (y_test.sum())"
   ]
  },
  {
   "cell_type": "code",
   "execution_count": 14,
   "metadata": {},
   "outputs": [
    {
     "name": "stdout",
     "output_type": "stream",
     "text": [
      "(7786, 17) (7786,)\n",
      "3893\n"
     ]
    }
   ],
   "source": [
    "# resample train data to be more balanced\n",
    "# https://imbalanced-learn.org/stable/over_sampling.html\n",
    "from imblearn.over_sampling import SMOTE\n",
    "\n",
    "sm = SMOTE()\n",
    "X_train_res, y_train_res = sm.fit_resample(X_train, y_train)\n",
    "print (X_train_res.shape, y_train_res.shape)\n",
    "print (y_train_res.sum())"
   ]
  },
  {
   "cell_type": "markdown",
   "metadata": {},
   "source": [
    "## 3. Logistic Regression"
   ]
  },
  {
   "cell_type": "code",
   "execution_count": 15,
   "metadata": {},
   "outputs": [
    {
     "data": {
      "text/plain": [
       "LogisticRegression(max_iter=200, random_state=0)"
      ]
     },
     "execution_count": 15,
     "metadata": {},
     "output_type": "execute_result"
    }
   ],
   "source": [
    "from sklearn.linear_model import LogisticRegression\n",
    "\n",
    "# Logistic Regression\n",
    "# https://scikit-learn.org/stable/modules/generated/sklearn.linear_model.LogisticRegression.html\n",
    "logreg = LogisticRegression(random_state=0, max_iter=200)\n",
    "logreg.fit(X_train_res, y_train_res)"
   ]
  },
  {
   "cell_type": "code",
   "execution_count": 16,
   "metadata": {
    "scrolled": false
   },
   "outputs": [
    {
     "name": "stdout",
     "output_type": "stream",
     "text": [
      "test accuracy: 0.7661448140900196\n",
      "test precision: 0.14285714285714285\n",
      "test recall:  0.6851851851851852\n",
      "test f1 score: 0.23642172523961658\n"
     ]
    },
    {
     "data": {
      "image/png": "[encoded data removed]",
      "text/plain": [
       "<Figure size 432x288 with 2 Axes>"
      ]
     },
     "metadata": {
      "needs_background": "light"
     },
     "output_type": "display_data"
    }
   ],
   "source": [
    "logreg_test_pred = logreg.predict(X_test)\n",
    "logreg_test_acc = metrics.accuracy_score(y_test, logreg_test_pred)\n",
    "logreg_test_prcn = metrics.precision_score(y_test, logreg_test_pred)\n",
    "logreg_test_rec = metrics.recall_score(y_test, logreg_test_pred)\n",
    "logreg_test_f1 = metrics.f1_score(y_test, logreg_test_pred)\n",
    "\n",
    "print(\"test accuracy:\", logreg_test_acc)\n",
    "print(\"test precision:\", logreg_test_prcn)\n",
    "print(\"test recall: \", logreg_test_rec)\n",
    "print(\"test f1 score:\", logreg_test_f1)\n",
    "\n",
    "draw_confusion_matrix(y_test, logreg_test_pred, [0,1])"
   ]
  },
  {
   "cell_type": "code",
   "execution_count": 17,
   "metadata": {},
   "outputs": [
    {
     "name": "stdout",
     "output_type": "stream",
     "text": [
      "[[ 2.16973757  0.06909032  0.09985982  0.18046883 -0.00796858 -0.15174391\n",
      "   0.09132647 -0.05606128 -0.07059784  0.01556432 -0.15340938  0.84025246\n",
      "   0.24231388 -0.98005393  0.0648718   0.15023827  0.21813058]]\n",
      "[-2.40433169]\n"
     ]
    }
   ],
   "source": [
    "print(logreg.coef_)\n",
    "print(logreg.intercept_)"
   ]
  },
  {
   "cell_type": "code",
   "execution_count": 18,
   "metadata": {},
   "outputs": [],
   "source": [
    "import statsmodels.api as sm\n",
    "\n",
    "# https://www.statsmodels.org/stable/generated/statsmodels.regression.linear_model.OLS.html\n",
    "data_stats = sm.OLS(y_train_res, X_train_res)\n",
    "results_stats = data_stats.fit()"
   ]
  },
  {
   "cell_type": "code",
   "execution_count": 19,
   "metadata": {
    "scrolled": true
   },
   "outputs": [
    {
     "name": "stdout",
     "output_type": "stream",
     "text": [
      "                            OLS Regression Results                            \n",
      "==============================================================================\n",
      "Dep. Variable:                 stroke   R-squared:                       0.405\n",
      "Model:                            OLS   Adj. R-squared:                  0.404\n",
      "Method:                 Least Squares   F-statistic:                     352.9\n",
      "Date:                Tue, 01 Jun 2021   Prob (F-statistic):               0.00\n",
      "Time:                        03:07:13   Log-Likelihood:                -3628.5\n",
      "No. Observations:                7786   AIC:                             7289.\n",
      "Df Residuals:                    7770   BIC:                             7400.\n",
      "Df Model:                          15                                         \n",
      "Covariance Type:            nonrobust                                         \n",
      "==============================================================================\n",
      "                 coef    std err          t      P>|t|      [0.025      0.975]\n",
      "------------------------------------------------------------------------------\n",
      "x1             0.3540      0.024     14.582      0.000       0.306       0.402\n",
      "x2             0.0114      0.004      3.010      0.003       0.004       0.019\n",
      "x3             0.0167      0.003      5.065      0.000       0.010       0.023\n",
      "x4             0.0332      0.004      7.798      0.000       0.025       0.042\n",
      "x5            -0.0255      0.015     -1.699      0.089      -0.055       0.004\n",
      "x6             0.0030      0.028      0.107      0.915      -0.052       0.058\n",
      "x7             0.2191      0.051      4.315      0.000       0.120       0.319\n",
      "x8             0.2074      0.051      4.066      0.000       0.107       0.307\n",
      "x9             0.1210      0.338      0.358      0.720      -0.542       0.784\n",
      "x10           -0.0458      0.052     -0.884      0.377      -0.147       0.056\n",
      "x11            0.1799      0.103      1.750      0.080      -0.022       0.381\n",
      "x12            0.0989      0.051      1.957      0.050      -0.000       0.198\n",
      "x13            0.0111      0.051      0.215      0.830      -0.090       0.112\n",
      "x14            0.3034      0.055      5.516      0.000       0.196       0.411\n",
      "x15            0.0117      0.004      2.866      0.004       0.004       0.020\n",
      "x16           -0.0387      0.014     -2.724      0.006      -0.066      -0.011\n",
      "x17            0.0293      0.009      3.129      0.002       0.011       0.048\n",
      "==============================================================================\n",
      "Omnibus:                      338.913   Durbin-Watson:                   0.926\n",
      "Prob(Omnibus):                  0.000   Jarque-Bera (JB):              353.400\n",
      "Skew:                          -0.493   Prob(JB):                     1.82e-77\n",
      "Kurtosis:                       2.659   Cond. No.                     1.74e+16\n",
      "==============================================================================\n",
      "\n",
      "Notes:\n",
      "[1] Standard Errors assume that the covariance matrix of the errors is correctly specified.\n",
      "[2] The smallest eigenvalue is 1.35e-28. This might indicate that there are\n",
      "strong multicollinearity problems or that the design matrix is singular.\n"
     ]
    }
   ],
   "source": [
    "print(results_stats.summary())"
   ]
  },
  {
   "cell_type": "markdown",
   "metadata": {},
   "source": [
    "## 4. PCA"
   ]
  },
  {
   "cell_type": "code",
   "execution_count": 20,
   "metadata": {},
   "outputs": [],
   "source": [
    "# based on avocado lab\n",
    "\n",
    "from sklearn import decomposition\n",
    "\n",
    "# https://scikit-learn.org/stable/modules/generated/sklearn.decomposition.PCA.html\n",
    "# fit to train data, transform test data to match\n",
    "pca10 = decomposition.PCA(n_components=10)\n",
    "X_train_res_pca10 = pca10.fit_transform(X_train_res)\n",
    "X_test_pca10 = pca10.transform(X_test)\n",
    "\n",
    "pca5 = decomposition.PCA(n_components=5)\n",
    "X_train_res_pca5 = pca5.fit_transform(X_train_res)\n",
    "X_test_pca5 = pca5.transform(X_test)"
   ]
  },
  {
   "cell_type": "code",
   "execution_count": 21,
   "metadata": {},
   "outputs": [
    {
     "data": {
      "text/plain": [
       "LogisticRegression(max_iter=200, random_state=0)"
      ]
     },
     "execution_count": 21,
     "metadata": {},
     "output_type": "execute_result"
    }
   ],
   "source": [
    "logreg_pca10 = LogisticRegression(random_state=0, max_iter=200)\n",
    "logreg_pca10.fit(X_train_res_pca10, y_train_res)"
   ]
  },
  {
   "cell_type": "code",
   "execution_count": 22,
   "metadata": {},
   "outputs": [
    {
     "name": "stdout",
     "output_type": "stream",
     "text": [
      "test accuracy: 0.764187866927593\n",
      "test precision: 0.1444866920152091\n",
      "test recall:  0.7037037037037037\n",
      "test f1 score: 0.2397476340694006\n"
     ]
    },
    {
     "data": {
      "image/png": "[encoded data removed]",
      "text/plain": [
       "<Figure size 432x288 with 2 Axes>"
      ]
     },
     "metadata": {
      "needs_background": "light"
     },
     "output_type": "display_data"
    }
   ],
   "source": [
    "logreg_pca10_test_pred = logreg_pca10.predict(X_test_pca10)\n",
    "logreg_pca10_test_acc = metrics.accuracy_score(y_test, logreg_pca10_test_pred)\n",
    "logreg_pca10_test_prcn = metrics.precision_score(y_test, logreg_pca10_test_pred)\n",
    "logreg_pca10_test_rec = metrics.recall_score(y_test, logreg_pca10_test_pred)\n",
    "logreg_pca10_test_f1 = metrics.f1_score(y_test, logreg_pca10_test_pred)\n",
    "\n",
    "print(\"test accuracy:\", logreg_pca10_test_acc)\n",
    "print(\"test precision:\", logreg_pca10_test_prcn)\n",
    "print(\"test recall: \", logreg_pca10_test_rec)\n",
    "print(\"test f1 score:\", logreg_pca10_test_f1)\n",
    "\n",
    "draw_confusion_matrix(y_test, logreg_pca10_test_pred, [0,1])"
   ]
  },
  {
   "cell_type": "code",
   "execution_count": 23,
   "metadata": {},
   "outputs": [
    {
     "data": {
      "text/plain": [
       "LogisticRegression(max_iter=200, random_state=0)"
      ]
     },
     "execution_count": 23,
     "metadata": {},
     "output_type": "execute_result"
    }
   ],
   "source": [
    "logreg_pca5 = LogisticRegression(random_state=0, max_iter=200)\n",
    "logreg_pca5.fit(X_train_res_pca5, y_train_res)"
   ]
  },
  {
   "cell_type": "code",
   "execution_count": 24,
   "metadata": {},
   "outputs": [
    {
     "name": "stdout",
     "output_type": "stream",
     "text": [
      "test accuracy: 0.7250489236790607\n",
      "test precision: 0.13268608414239483\n",
      "test recall:  0.7592592592592593\n",
      "test f1 score: 0.22589531680440772\n"
     ]
    },
    {
     "data": {
      "image/png": "[encoded data removed]",
      "text/plain": [
       "<Figure size 432x288 with 2 Axes>"
      ]
     },
     "metadata": {
      "needs_background": "light"
     },
     "output_type": "display_data"
    }
   ],
   "source": [
    "logreg_pca5_test_pred = logreg_pca5.predict(X_test_pca5)\n",
    "logreg_pca5_test_acc = metrics.accuracy_score(y_test, logreg_pca5_test_pred)\n",
    "logreg_pca5_test_prcn = metrics.precision_score(y_test, logreg_pca5_test_pred)\n",
    "logreg_pca5_test_rec = metrics.recall_score(y_test, logreg_pca5_test_pred)\n",
    "logreg_pca5_test_f1 = metrics.f1_score(y_test, logreg_pca5_test_pred)\n",
    "\n",
    "print(\"test accuracy:\", logreg_pca5_test_acc)\n",
    "print(\"test precision:\", logreg_pca5_test_prcn)\n",
    "print(\"test recall: \", logreg_pca5_test_rec)\n",
    "print(\"test f1 score:\", logreg_pca5_test_f1)\n",
    "\n",
    "draw_confusion_matrix(y_test, logreg_pca5_test_pred, [0,1])"
   ]
  },
  {
   "cell_type": "markdown",
   "metadata": {},
   "source": [
    "## 5. Ensemble Method (Bagging)"
   ]
  },
  {
   "cell_type": "code",
   "execution_count": 25,
   "metadata": {},
   "outputs": [],
   "source": [
    "# based on DT_RF lab\n",
    "\n",
    "from sklearn.utils import resample\n",
    "from sklearn.tree import DecisionTreeRegressor\n",
    "\n",
    "\n",
    "ntrees = 500\n",
    "estimators = []\n",
    "R2s = []\n",
    "yhats_test = np.zeros((X_test.shape[0], ntrees))\n",
    "importance = np.zeros((X_test.shape[1], ntrees))\n",
    "\n",
    "for i in range(ntrees):\n",
    "    simpletree = DecisionTreeRegressor(max_depth=3)\n",
    "    bootstrap_x, bootstrap_y = resample(X_train_res, y_train_res)\n",
    "    estimators = np.append(estimators, simpletree.fit(bootstrap_x, bootstrap_y))\n",
    "    R2s = np.append(R2s, simpletree.score(X_test, y_test))\n",
    "    yhats_test[:,i] = simpletree.predict(X_test)\n",
    "    importance[:,i] = simpletree.feature_importances_"
   ]
  },
  {
   "cell_type": "code",
   "execution_count": 26,
   "metadata": {},
   "outputs": [
    {
     "name": "stdout",
     "output_type": "stream",
     "text": [
      "(17, 500)\n",
      "[8.75605228e-01 0.00000000e+00 8.40486384e-05 1.06653654e-04\n",
      " 1.63306462e-04 3.29531027e-03 1.23651933e-03 1.59789075e-03\n",
      " 0.00000000e+00 2.20059919e-02 0.00000000e+00 3.40250861e-02\n",
      " 8.24138284e-04 0.00000000e+00 1.05374323e-02 9.39105476e-04\n",
      " 4.95792893e-02]\n"
     ]
    }
   ],
   "source": [
    "print(importance.shape)\n",
    "print(importance.mean(axis=1))"
   ]
  },
  {
   "cell_type": "code",
   "execution_count": 27,
   "metadata": {
    "scrolled": false
   },
   "outputs": [
    {
     "name": "stdout",
     "output_type": "stream",
     "text": [
      "mean r2 score: -2.238084343113069\n",
      "test accuracy: 0.7475538160469667\n",
      "test precision: 0.13309352517985612\n",
      "test recall:  0.6851851851851852\n",
      "test f1 score: 0.22289156626506026\n"
     ]
    },
    {
     "data": {
      "image/png": "[encoded data removed]",
      "text/plain": [
       "<Figure size 432x288 with 2 Axes>"
      ]
     },
     "metadata": {
      "needs_background": "light"
     },
     "output_type": "display_data"
    }
   ],
   "source": [
    "# https://stackoverflow.com/questions/46994426/how-to-round-a-numpy-array\n",
    "mean_yhats = np.round(yhats_test.mean(axis=1))\n",
    "\n",
    "bag_test_acc = metrics.accuracy_score(y_test, mean_yhats)\n",
    "bag_test_prcn = metrics.precision_score(y_test, mean_yhats)\n",
    "bag_test_rec = metrics.recall_score(y_test, mean_yhats)\n",
    "bag_test_f1 = metrics.f1_score(y_test, mean_yhats)\n",
    "\n",
    "print(\"mean r2 score:\", R2s.mean())\n",
    "print(\"test accuracy:\", bag_test_acc)\n",
    "print(\"test precision:\", bag_test_prcn)\n",
    "print(\"test recall: \", bag_test_rec)\n",
    "print(\"test f1 score:\", bag_test_f1)\n",
    "\n",
    "draw_confusion_matrix(y_test, mean_yhats, [0,1])"
   ]
  },
  {
   "cell_type": "code",
   "execution_count": 28,
   "metadata": {},
   "outputs": [
    {
     "name": "stdout",
     "output_type": "stream",
     "text": [
      "mean r2 score: -2.238084343113069\n",
      "test accuracy: 0.7475538160469667\n",
      "test precision: 0.13309352517985612\n",
      "test recall:  0.6851851851851852\n",
      "test f1 score: 0.22289156626506026\n"
     ]
    },
    {
     "data": {
      "image/png": "[encoded data removed]",
      "text/plain": [
       "<Figure size 432x288 with 2 Axes>"
      ]
     },
     "metadata": {
      "needs_background": "light"
     },
     "output_type": "display_data"
    }
   ],
   "source": [
    "# https://stackoverflow.com/questions/46994426/how-to-round-a-numpy-array\n",
    "median_yhats = np.round(yhats_test.mean(axis=1))\n",
    "\n",
    "bag_test_acc = metrics.accuracy_score(y_test, median_yhats)\n",
    "bag_test_prcn = metrics.precision_score(y_test, median_yhats)\n",
    "bag_test_rec = metrics.recall_score(y_test, median_yhats)\n",
    "bag_test_f1 = metrics.f1_score(y_test, median_yhats)\n",
    "\n",
    "print(\"mean r2 score:\", R2s.mean())\n",
    "print(\"test accuracy:\", bag_test_acc)\n",
    "print(\"test precision:\", bag_test_prcn)\n",
    "print(\"test recall: \", bag_test_rec)\n",
    "print(\"test f1 score:\", bag_test_f1)\n",
    "\n",
    "draw_confusion_matrix(y_test, median_yhats, [0,1])"
   ]
  },
  {
   "cell_type": "markdown",
   "metadata": {},
   "source": [
    "## 6. Neural Net"
   ]
  },
  {
   "cell_type": "code",
   "execution_count": 42,
   "metadata": {},
   "outputs": [],
   "source": [
    "# based on mnist lab\n",
    "\n",
    "import torch\n",
    "import torch.nn as nn\n",
    "import torch.nn.functional as F\n",
    "import torch.optim as optim"
   ]
  },
  {
   "cell_type": "code",
   "execution_count": 43,
   "metadata": {},
   "outputs": [
    {
     "name": "stdout",
     "output_type": "stream",
     "text": [
      "(5110, 12)\n",
      "(4088, 12)\n",
      "<torch.utils.data.dataset.TensorDataset object at 0x00000197C58BFC70>\n"
     ]
    }
   ],
   "source": [
    "# https://stackoverflow.com/questions/41924453/pytorch-how-to-use-dataloaders-for-custom-datasets\n",
    "\n",
    "from torch.utils.data import TensorDataset, DataLoader\n",
    "\n",
    "print(dataset.shape)\n",
    "train_size = int(0.8 * dataset.shape[0])\n",
    "\n",
    "train_nn = dataset[:train_size]\n",
    "test_nn = dataset[train_size:]\n",
    "print(train_nn.shape)\n",
    "\n",
    "X_train_tensor = torch.tensor(X_train)\n",
    "y_train_tensor = torch.IntTensor(y_train)\n",
    "X_test_tensor = torch.tensor(X_test)\n",
    "y_test_tensor = torch.IntTensor(y_test.values)\n",
    "# i have no clue why only y_test is a series while the rest are arrays\n",
    "\n",
    "train_nn = TensorDataset(X_train_tensor, y_train_tensor)\n",
    "test_nn = TensorDataset(X_test_tensor, y_test_tensor)\n",
    "print(train_nn)"
   ]
  },
  {
   "cell_type": "code",
   "execution_count": 44,
   "metadata": {},
   "outputs": [
    {
     "name": "stdout",
     "output_type": "stream",
     "text": [
      "torch.Size([1, 17])\n",
      "torch.Size([1])\n"
     ]
    }
   ],
   "source": [
    "train_loader = torch.utils.data.DataLoader(train_nn)\n",
    "test_loader = torch.utils.data.DataLoader(test_nn)\n",
    "\n",
    "for batch_idx, (data, target) in enumerate(train_loader):\n",
    "    print(data.shape)\n",
    "    print(target.shape)\n",
    "    break"
   ]
  },
  {
   "cell_type": "code",
   "execution_count": 45,
   "metadata": {},
   "outputs": [],
   "source": [
    "# One hidden Layer NN\n",
    "class Model(nn.Module):\n",
    "    def __init__(self):\n",
    "        super(Model, self).__init__()\n",
    "        self.fc = nn.Linear(17, 500)\n",
    "        self.fc2 = nn.Linear(500, 1)\n",
    "\n",
    "    def forward(self, x):\n",
    "        h = F.relu(self.fc(x.float()))\n",
    "        h = self.fc2(h)\n",
    "        return torch.sigmoid(h)    \n",
    "    \n",
    "#initialize the model   \n",
    "network = Model()\n",
    "\n",
    "#initialize the optimizer   \n",
    "learning_rate = 0.01\n",
    "momentum = 0.5\n",
    "optimizer = optim.SGD(network.parameters(), lr=learning_rate,\n",
    "                      momentum=momentum)"
   ]
  },
  {
   "cell_type": "code",
   "execution_count": 46,
   "metadata": {},
   "outputs": [],
   "source": [
    "n_epochs = 3\n",
    "train_losses = []\n",
    "train_counter = []\n",
    "test_losses = []\n",
    "test_acc = []\n",
    "test_counter = [i*len(train_loader.dataset) for i in range(n_epochs + 1)]\n",
    "log_interval = 100"
   ]
  },
  {
   "cell_type": "code",
   "execution_count": 47,
   "metadata": {},
   "outputs": [],
   "source": [
    "# https://stackoverflow.com/questions/53628622/loss-function-its-inputs-for-binary-classification-pytorch\n",
    "# https://medium.com/analytics-vidhya/simple-neural-network-with-bceloss-for-binary-classification-for-a-custom-dataset-8d5c69ffffee\n",
    "criterion = nn.BCELoss()\n",
    "\n",
    "def train(epoch):\n",
    "  network.train()\n",
    "  for batch_idx, (data, target) in enumerate(train_loader):\n",
    "        \n",
    "    output = network(data.float())\n",
    "    loss = criterion(output, target.float().unsqueeze(1))\n",
    "    \n",
    "    optimizer.zero_grad()\n",
    "    loss.backward()\n",
    "    optimizer.step()\n",
    "    \n",
    "    if batch_idx % log_interval == 0:\n",
    "      print('Train Epoch: {} [{}/{} ({:.0f}%)]\\tLoss: {:.6f}'.format(\n",
    "        epoch, batch_idx * len(data), len(train_loader.dataset),\n",
    "        100. * batch_idx / len(train_loader), loss))\n",
    "      train_losses.append(loss)\n",
    "      train_counter.append(\n",
    "        (batch_idx*64) + ((epoch-1)*len(train_loader.dataset)))"
   ]
  },
  {
   "cell_type": "code",
   "execution_count": 48,
   "metadata": {},
   "outputs": [],
   "source": [
    "criterion = nn.BCELoss()\n",
    "\n",
    "def test():\n",
    "  network.eval()\n",
    "  test_loss = 0\n",
    "  correct = 0\n",
    "  with torch.no_grad():\n",
    "    for data, target in test_loader:\n",
    "        \n",
    "      output = network(data.float())\n",
    "      loss = criterion(output, target.float().unsqueeze(1))\n",
    "      test_loss += loss\n",
    "    \n",
    "      pred = output.data.max(1, keepdim=True)[1]\n",
    "      correct += pred.eq(target.data.view_as(pred)).sum()\n",
    "    \n",
    "  test_loss /= len(test_loader.dataset)\n",
    "  test_losses.append(test_loss)\n",
    "  test_acc.append(correct / len(test_loader.dataset))\n",
    "  print('\\nTest set: Avg. loss: {:.4f}, Accuracy: {}/{} ({:.0f}%)\\n'.format(\n",
    "    test_loss, correct, len(test_loader.dataset),\n",
    "    100. * correct / len(test_loader.dataset)))"
   ]
  },
  {
   "cell_type": "code",
   "execution_count": 49,
   "metadata": {
    "scrolled": true
   },
   "outputs": [
    {
     "name": "stdout",
     "output_type": "stream",
     "text": [
      "\n",
      "Test set: Avg. loss: 0.7080, Accuracy: 968/1022 (95%)\n",
      "\n",
      "Train Epoch: 1 [0/4088 (0%)]\tLoss: 0.682846\n",
      "Train Epoch: 1 [100/4088 (2%)]\tLoss: 0.018011\n",
      "Train Epoch: 1 [200/4088 (5%)]\tLoss: 0.062086\n",
      "Train Epoch: 1 [300/4088 (7%)]\tLoss: 0.007422\n",
      "Train Epoch: 1 [400/4088 (10%)]\tLoss: 0.046230\n",
      "Train Epoch: 1 [500/4088 (12%)]\tLoss: 0.011273\n",
      "Train Epoch: 1 [600/4088 (15%)]\tLoss: 0.020053\n",
      "Train Epoch: 1 [700/4088 (17%)]\tLoss: 0.002303\n",
      "Train Epoch: 1 [800/4088 (20%)]\tLoss: 0.015782\n",
      "Train Epoch: 1 [900/4088 (22%)]\tLoss: 0.001073\n",
      "Train Epoch: 1 [1000/4088 (24%)]\tLoss: 0.010396\n",
      "Train Epoch: 1 [1100/4088 (27%)]\tLoss: 2.197992\n",
      "Train Epoch: 1 [1200/4088 (29%)]\tLoss: 0.096887\n",
      "Train Epoch: 1 [1300/4088 (32%)]\tLoss: 0.230187\n",
      "Train Epoch: 1 [1400/4088 (34%)]\tLoss: 0.032401\n",
      "Train Epoch: 1 [1500/4088 (37%)]\tLoss: 0.009162\n",
      "Train Epoch: 1 [1600/4088 (39%)]\tLoss: 4.545251\n",
      "Train Epoch: 1 [1700/4088 (42%)]\tLoss: 0.178897\n",
      "Train Epoch: 1 [1800/4088 (44%)]\tLoss: 0.199744\n",
      "Train Epoch: 1 [1900/4088 (46%)]\tLoss: 0.002843\n",
      "Train Epoch: 1 [2000/4088 (49%)]\tLoss: 0.002812\n",
      "Train Epoch: 1 [2100/4088 (51%)]\tLoss: 0.052367\n",
      "Train Epoch: 1 [2200/4088 (54%)]\tLoss: 0.086254\n",
      "Train Epoch: 1 [2300/4088 (56%)]\tLoss: 0.035084\n",
      "Train Epoch: 1 [2400/4088 (59%)]\tLoss: 0.040923\n",
      "Train Epoch: 1 [2500/4088 (61%)]\tLoss: 0.001556\n",
      "Train Epoch: 1 [2600/4088 (64%)]\tLoss: 0.016035\n",
      "Train Epoch: 1 [2700/4088 (66%)]\tLoss: 0.147081\n",
      "Train Epoch: 1 [2800/4088 (68%)]\tLoss: 2.825341\n",
      "Train Epoch: 1 [2900/4088 (71%)]\tLoss: 0.001303\n",
      "Train Epoch: 1 [3000/4088 (73%)]\tLoss: 0.086471\n",
      "Train Epoch: 1 [3100/4088 (76%)]\tLoss: 0.189652\n",
      "Train Epoch: 1 [3200/4088 (78%)]\tLoss: 0.012156\n",
      "Train Epoch: 1 [3300/4088 (81%)]\tLoss: 0.135355\n",
      "Train Epoch: 1 [3400/4088 (83%)]\tLoss: 0.103817\n",
      "Train Epoch: 1 [3500/4088 (86%)]\tLoss: 0.041967\n",
      "Train Epoch: 1 [3600/4088 (88%)]\tLoss: 0.000325\n",
      "Train Epoch: 1 [3700/4088 (91%)]\tLoss: 0.027482\n",
      "Train Epoch: 1 [3800/4088 (93%)]\tLoss: 0.015289\n",
      "Train Epoch: 1 [3900/4088 (95%)]\tLoss: 0.041149\n",
      "Train Epoch: 1 [4000/4088 (98%)]\tLoss: 0.008687\n",
      "\n",
      "Test set: Avg. loss: 0.1963, Accuracy: 968/1022 (95%)\n",
      "\n",
      "Train Epoch: 2 [0/4088 (0%)]\tLoss: 0.003727\n",
      "Train Epoch: 2 [100/4088 (2%)]\tLoss: 0.000445\n",
      "Train Epoch: 2 [200/4088 (5%)]\tLoss: 0.062913\n",
      "Train Epoch: 2 [300/4088 (7%)]\tLoss: 0.002133\n",
      "Train Epoch: 2 [400/4088 (10%)]\tLoss: 0.015692\n",
      "Train Epoch: 2 [500/4088 (12%)]\tLoss: 0.005897\n",
      "Train Epoch: 2 [600/4088 (15%)]\tLoss: 0.011456\n",
      "Train Epoch: 2 [700/4088 (17%)]\tLoss: 0.000879\n",
      "Train Epoch: 2 [800/4088 (20%)]\tLoss: 0.004872\n",
      "Train Epoch: 2 [900/4088 (22%)]\tLoss: 0.000190\n",
      "Train Epoch: 2 [1000/4088 (24%)]\tLoss: 0.011179\n",
      "Train Epoch: 2 [1100/4088 (27%)]\tLoss: 1.708064\n",
      "Train Epoch: 2 [1200/4088 (29%)]\tLoss: 0.174606\n",
      "Train Epoch: 2 [1300/4088 (32%)]\tLoss: 0.243352\n",
      "Train Epoch: 2 [1400/4088 (34%)]\tLoss: 0.014615\n",
      "Train Epoch: 2 [1500/4088 (37%)]\tLoss: 0.002076\n",
      "Train Epoch: 2 [1600/4088 (39%)]\tLoss: 4.086112\n",
      "Train Epoch: 2 [1700/4088 (42%)]\tLoss: 0.198416\n",
      "Train Epoch: 2 [1800/4088 (44%)]\tLoss: 0.300602\n",
      "Train Epoch: 2 [1900/4088 (46%)]\tLoss: 0.001624\n",
      "Train Epoch: 2 [2000/4088 (49%)]\tLoss: 0.002740\n",
      "Train Epoch: 2 [2100/4088 (51%)]\tLoss: 0.097488\n",
      "Train Epoch: 2 [2200/4088 (54%)]\tLoss: 0.085189\n",
      "Train Epoch: 2 [2300/4088 (56%)]\tLoss: 0.035973\n",
      "Train Epoch: 2 [2400/4088 (59%)]\tLoss: 0.039782\n",
      "Train Epoch: 2 [2500/4088 (61%)]\tLoss: 0.000523\n",
      "Train Epoch: 2 [2600/4088 (64%)]\tLoss: 0.020689\n",
      "Train Epoch: 2 [2700/4088 (66%)]\tLoss: 0.208543\n",
      "Train Epoch: 2 [2800/4088 (68%)]\tLoss: 2.335463\n",
      "Train Epoch: 2 [2900/4088 (71%)]\tLoss: 0.000670\n",
      "Train Epoch: 2 [3000/4088 (73%)]\tLoss: 0.132197\n",
      "Train Epoch: 2 [3100/4088 (76%)]\tLoss: 0.181388\n",
      "Train Epoch: 2 [3200/4088 (78%)]\tLoss: 0.007617\n",
      "Train Epoch: 2 [3300/4088 (81%)]\tLoss: 0.151408\n",
      "Train Epoch: 2 [3400/4088 (83%)]\tLoss: 0.097881\n",
      "Train Epoch: 2 [3500/4088 (86%)]\tLoss: 0.029594\n",
      "Train Epoch: 2 [3600/4088 (88%)]\tLoss: 0.000189\n",
      "Train Epoch: 2 [3700/4088 (91%)]\tLoss: 0.024631\n",
      "Train Epoch: 2 [3800/4088 (93%)]\tLoss: 0.013037\n",
      "Train Epoch: 2 [3900/4088 (95%)]\tLoss: 0.028966\n",
      "Train Epoch: 2 [4000/4088 (98%)]\tLoss: 0.007082\n",
      "\n",
      "Test set: Avg. loss: 0.1930, Accuracy: 968/1022 (95%)\n",
      "\n",
      "Train Epoch: 3 [0/4088 (0%)]\tLoss: 0.003755\n",
      "Train Epoch: 3 [100/4088 (2%)]\tLoss: 0.000252\n",
      "Train Epoch: 3 [200/4088 (5%)]\tLoss: 0.070549\n",
      "Train Epoch: 3 [300/4088 (7%)]\tLoss: 0.002322\n",
      "Train Epoch: 3 [400/4088 (10%)]\tLoss: 0.014517\n",
      "Train Epoch: 3 [500/4088 (12%)]\tLoss: 0.005495\n",
      "Train Epoch: 3 [600/4088 (15%)]\tLoss: 0.011484\n",
      "Train Epoch: 3 [700/4088 (17%)]\tLoss: 0.000742\n",
      "Train Epoch: 3 [800/4088 (20%)]\tLoss: 0.003060\n",
      "Train Epoch: 3 [900/4088 (22%)]\tLoss: 0.000114\n",
      "Train Epoch: 3 [1000/4088 (24%)]\tLoss: 0.012395\n",
      "Train Epoch: 3 [1100/4088 (27%)]\tLoss: 1.580879\n",
      "Train Epoch: 3 [1200/4088 (29%)]\tLoss: 0.223061\n",
      "Train Epoch: 3 [1300/4088 (32%)]\tLoss: 0.223635\n",
      "Train Epoch: 3 [1400/4088 (34%)]\tLoss: 0.010207\n",
      "Train Epoch: 3 [1500/4088 (37%)]\tLoss: 0.000921\n",
      "Train Epoch: 3 [1600/4088 (39%)]\tLoss: 3.862801\n",
      "Train Epoch: 3 [1700/4088 (42%)]\tLoss: 0.204784\n",
      "Train Epoch: 3 [1800/4088 (44%)]\tLoss: 0.374540\n",
      "Train Epoch: 3 [1900/4088 (46%)]\tLoss: 0.001272\n",
      "Train Epoch: 3 [2000/4088 (49%)]\tLoss: 0.002719\n",
      "Train Epoch: 3 [2100/4088 (51%)]\tLoss: 0.121733\n",
      "Train Epoch: 3 [2200/4088 (54%)]\tLoss: 0.085494\n",
      "Train Epoch: 3 [2300/4088 (56%)]\tLoss: 0.039197\n",
      "Train Epoch: 3 [2400/4088 (59%)]\tLoss: 0.039260\n",
      "Train Epoch: 3 [2500/4088 (61%)]\tLoss: 0.000272\n",
      "Train Epoch: 3 [2600/4088 (64%)]\tLoss: 0.024943\n",
      "Train Epoch: 3 [2700/4088 (66%)]\tLoss: 0.218963\n",
      "Train Epoch: 3 [2800/4088 (68%)]\tLoss: 2.083602\n",
      "Train Epoch: 3 [2900/4088 (71%)]\tLoss: 0.000422\n",
      "Train Epoch: 3 [3000/4088 (73%)]\tLoss: 0.155075\n",
      "Train Epoch: 3 [3100/4088 (76%)]\tLoss: 0.162602\n",
      "Train Epoch: 3 [3200/4088 (78%)]\tLoss: 0.005358\n",
      "Train Epoch: 3 [3300/4088 (81%)]\tLoss: 0.150119\n",
      "Train Epoch: 3 [3400/4088 (83%)]\tLoss: 0.092297\n",
      "Train Epoch: 3 [3500/4088 (86%)]\tLoss: 0.022894\n",
      "Train Epoch: 3 [3600/4088 (88%)]\tLoss: 0.000128\n",
      "Train Epoch: 3 [3700/4088 (91%)]\tLoss: 0.022944\n",
      "Train Epoch: 3 [3800/4088 (93%)]\tLoss: 0.010309\n",
      "Train Epoch: 3 [3900/4088 (95%)]\tLoss: 0.021760\n",
      "Train Epoch: 3 [4000/4088 (98%)]\tLoss: 0.006396\n",
      "\n",
      "Test set: Avg. loss: 0.1906, Accuracy: 968/1022 (95%)\n",
      "\n"
     ]
    }
   ],
   "source": [
    "test()\n",
    "for epoch in range(1, n_epochs + 1):\n",
    "  train(epoch)\n",
    "  test()"
   ]
  },
  {
   "cell_type": "code",
   "execution_count": 50,
   "metadata": {},
   "outputs": [
    {
     "name": "stdout",
     "output_type": "stream",
     "text": [
      "4\n",
      "[tensor(0.7080), tensor(0.1963), tensor(0.1930), tensor(0.1906)]\n"
     ]
    }
   ],
   "source": [
    "print(len(test_losses))\n",
    "print(test_losses)"
   ]
  },
  {
   "cell_type": "markdown",
   "metadata": {},
   "source": [
    "## 7. K-fold Cross Validation (Bagging)"
   ]
  },
  {
   "cell_type": "code",
   "execution_count": 51,
   "metadata": {},
   "outputs": [
    {
     "name": "stdout",
     "output_type": "stream",
     "text": [
      "mean r2 score: -2.1638741032232915\n",
      "test accuracy: 0.7514677103718199\n",
      "test precision: 0.13768115942028986\n",
      "test recall:  0.7037037037037037\n",
      "test f1 score: 0.23030303030303031\n",
      "\n",
      "mean r2 score: -2.2744742369944517\n",
      "test accuracy: 0.7544031311154599\n",
      "test precision: 0.13653136531365315\n",
      "test recall:  0.6851851851851852\n",
      "test f1 score: 0.2276923076923077\n",
      "\n",
      "mean r2 score: -2.226301032621165\n",
      "test accuracy: 0.7514677103718199\n",
      "test precision: 0.1323529411764706\n",
      "test recall:  0.6666666666666666\n",
      "test f1 score: 0.22085889570552147\n",
      "\n",
      "mean r2 score: -2.160875388216152\n",
      "test accuracy: 0.7583170254403131\n",
      "test precision: 0.13026819923371646\n",
      "test recall:  0.6296296296296297\n",
      "test f1 score: 0.21587301587301586\n",
      "\n",
      "mean r2 score: -2.3286665558762465\n",
      "test accuracy: 0.761252446183953\n",
      "test precision: 0.14015151515151514\n",
      "test recall:  0.6851851851851852\n",
      "test f1 score: 0.23270440251572327\n",
      "\n"
     ]
    }
   ],
   "source": [
    "# https://scikit-learn.org/stable/modules/generated/sklearn.model_selection.StratifiedShuffleSplit.html\n",
    "\n",
    "from sklearn.model_selection import StratifiedShuffleSplit\n",
    "\n",
    "ntrees = 500\n",
    "sss = StratifiedShuffleSplit(n_splits=5, test_size=0.2, random_state=0)\n",
    "\n",
    "cv_acc = []\n",
    "cv_pre = []\n",
    "cv_rec = []\n",
    "cv_f1 = []\n",
    "\n",
    "for train_index, test_index in sss.split(X_train_res, y_train_res):\n",
    "    X_train_cv, X_test_cv = X_train_res[train_index], X_train_res[test_index]\n",
    "    y_train_cv, y_test_cv = y_train_res[train_index], y_train_res[test_index]\n",
    "    \n",
    "    estimators = []\n",
    "    R2s = []\n",
    "    yhats_test = np.zeros((X_test.shape[0], ntrees))\n",
    "    for i in range(ntrees):\n",
    "        simpletree = DecisionTreeRegressor(max_depth=3)\n",
    "        bootstrap_x, bootstrap_y = resample(X_train_cv, y_train_cv)\n",
    "        estimators = np.append(estimators, simpletree.fit(bootstrap_x, bootstrap_y))\n",
    "        R2s = np.append(R2s, simpletree.score(X_test, y_test))\n",
    "        yhats_test[:,i] = simpletree.predict(X_test)\n",
    "    \n",
    "    median_yhats = np.round(np.median(yhats_test, axis=1))\n",
    "    bag_test_acc = metrics.accuracy_score(y_test, median_yhats)\n",
    "    bag_test_prcn = metrics.precision_score(y_test, median_yhats)\n",
    "    bag_test_rec = metrics.recall_score(y_test, median_yhats)\n",
    "    bag_test_f1 = metrics.f1_score(y_test, median_yhats)\n",
    "    \n",
    "    cv_acc.append(bag_test_acc)\n",
    "    cv_pre.append(bag_test_prcn)\n",
    "    cv_rec.append(bag_test_rec)\n",
    "    cv_f1.append(bag_test_f1)\n",
    "    \n",
    "    print(\"mean r2 score:\", R2s.mean())\n",
    "    print(\"test accuracy:\", bag_test_acc)\n",
    "    print(\"test precision:\", bag_test_prcn)\n",
    "    print(\"test recall: \", bag_test_rec)\n",
    "    print(\"test f1 score:\", bag_test_f1)\n",
    "    print()"
   ]
  },
  {
   "cell_type": "code",
   "execution_count": 52,
   "metadata": {},
   "outputs": [
    {
     "name": "stdout",
     "output_type": "stream",
     "text": [
      "average cross validation scores\n",
      "mean test accuracy: 0.7553816046966731\n",
      "mean test precision: 0.13539703605912903\n",
      "mean test recall: 0.674074074074074\n",
      "mean test f1 score: 0.2254863304179197\n"
     ]
    }
   ],
   "source": [
    "print(\"average cross validation scores\")\n",
    "print(\"mean test accuracy:\", np.mean(cv_acc))\n",
    "print(\"mean test precision:\", np.mean(cv_pre))\n",
    "print(\"mean test recall:\", np.mean(cv_rec))\n",
    "print(\"mean test f1 score:\", np.mean(cv_f1))"
   ]
  },
  {
   "cell_type": "markdown",
   "metadata": {},
   "source": [
    "## 7. K-fold Cross Validation (NN)"
   ]
  },
  {
   "cell_type": "code",
   "execution_count": 53,
   "metadata": {
    "scrolled": true
   },
   "outputs": [
    {
     "name": "stdout",
     "output_type": "stream",
     "text": [
      "Train Epoch: 1 [0/6228 (0%)]\tLoss: 1.663520\n",
      "Train Epoch: 1 [1000/6228 (16%)]\tLoss: 0.270739\n",
      "Train Epoch: 1 [2000/6228 (32%)]\tLoss: 0.635053\n",
      "Train Epoch: 1 [3000/6228 (48%)]\tLoss: 0.166337\n",
      "Train Epoch: 1 [4000/6228 (64%)]\tLoss: 0.182555\n",
      "Train Epoch: 1 [5000/6228 (80%)]\tLoss: 0.922878\n",
      "Train Epoch: 1 [6000/6228 (96%)]\tLoss: 0.416058\n",
      "\n",
      "Test set: Avg. loss: 0.3822, Accuracy: 779/1558 (50%)\n",
      "\n",
      "Train Epoch: 2 [0/6228 (0%)]\tLoss: 0.181292\n",
      "Train Epoch: 2 [1000/6228 (16%)]\tLoss: 0.246902\n",
      "Train Epoch: 2 [2000/6228 (32%)]\tLoss: 0.444232\n",
      "Train Epoch: 2 [3000/6228 (48%)]\tLoss: 0.137003\n",
      "Train Epoch: 2 [4000/6228 (64%)]\tLoss: 0.137142\n",
      "Train Epoch: 2 [5000/6228 (80%)]\tLoss: 0.890322\n",
      "Train Epoch: 2 [6000/6228 (96%)]\tLoss: 0.345558\n",
      "\n",
      "Test set: Avg. loss: 0.3578, Accuracy: 779/1558 (50%)\n",
      "\n",
      "Train Epoch: 3 [0/6228 (0%)]\tLoss: 0.165411\n",
      "Train Epoch: 3 [1000/6228 (16%)]\tLoss: 0.220705\n",
      "Train Epoch: 3 [2000/6228 (32%)]\tLoss: 0.291168\n",
      "Train Epoch: 3 [3000/6228 (48%)]\tLoss: 0.105031\n",
      "Train Epoch: 3 [4000/6228 (64%)]\tLoss: 0.109510\n",
      "Train Epoch: 3 [5000/6228 (80%)]\tLoss: 0.744068\n",
      "Train Epoch: 3 [6000/6228 (96%)]\tLoss: 0.339278\n",
      "\n",
      "Test set: Avg. loss: 0.3409, Accuracy: 779/1558 (50%)\n",
      "\n",
      "Train Epoch: 1 [0/6228 (0%)]\tLoss: 0.028399\n",
      "Train Epoch: 1 [1000/6228 (16%)]\tLoss: 0.253036\n",
      "Train Epoch: 1 [2000/6228 (32%)]\tLoss: 0.394569\n",
      "Train Epoch: 1 [3000/6228 (48%)]\tLoss: 0.127191\n",
      "Train Epoch: 1 [4000/6228 (64%)]\tLoss: 0.440881\n",
      "Train Epoch: 1 [5000/6228 (80%)]\tLoss: 0.185595\n",
      "Train Epoch: 1 [6000/6228 (96%)]\tLoss: 0.327426\n",
      "\n",
      "Test set: Avg. loss: 0.3335, Accuracy: 779/1558 (50%)\n",
      "\n",
      "Train Epoch: 2 [0/6228 (0%)]\tLoss: 0.022036\n",
      "Train Epoch: 2 [1000/6228 (16%)]\tLoss: 0.205445\n",
      "Train Epoch: 2 [2000/6228 (32%)]\tLoss: 0.291856\n",
      "Train Epoch: 2 [3000/6228 (48%)]\tLoss: 0.105797\n",
      "Train Epoch: 2 [4000/6228 (64%)]\tLoss: 0.508799\n",
      "Train Epoch: 2 [5000/6228 (80%)]\tLoss: 0.253755\n",
      "Train Epoch: 2 [6000/6228 (96%)]\tLoss: 0.295162\n",
      "\n",
      "Test set: Avg. loss: 0.3221, Accuracy: 779/1558 (50%)\n",
      "\n",
      "Train Epoch: 3 [0/6228 (0%)]\tLoss: 0.017602\n",
      "Train Epoch: 3 [1000/6228 (16%)]\tLoss: 0.191844\n",
      "Train Epoch: 3 [2000/6228 (32%)]\tLoss: 0.249605\n",
      "Train Epoch: 3 [3000/6228 (48%)]\tLoss: 0.092364\n",
      "Train Epoch: 3 [4000/6228 (64%)]\tLoss: 0.421627\n",
      "Train Epoch: 3 [5000/6228 (80%)]\tLoss: 0.277050\n",
      "Train Epoch: 3 [6000/6228 (96%)]\tLoss: 0.302296\n",
      "\n",
      "Test set: Avg. loss: 0.3211, Accuracy: 779/1558 (50%)\n",
      "\n",
      "Train Epoch: 1 [0/6228 (0%)]\tLoss: 0.292692\n",
      "Train Epoch: 1 [1000/6228 (16%)]\tLoss: 2.179407\n",
      "Train Epoch: 1 [2000/6228 (32%)]\tLoss: 0.000005\n",
      "Train Epoch: 1 [3000/6228 (48%)]\tLoss: 0.317544\n",
      "Train Epoch: 1 [4000/6228 (64%)]\tLoss: 0.284853\n",
      "Train Epoch: 1 [5000/6228 (80%)]\tLoss: 0.019309\n",
      "Train Epoch: 1 [6000/6228 (96%)]\tLoss: 0.115519\n",
      "\n",
      "Test set: Avg. loss: 0.2837, Accuracy: 779/1558 (50%)\n",
      "\n",
      "Train Epoch: 2 [0/6228 (0%)]\tLoss: 0.120518\n",
      "Train Epoch: 2 [1000/6228 (16%)]\tLoss: 2.061829\n",
      "Train Epoch: 2 [2000/6228 (32%)]\tLoss: 0.000003\n",
      "Train Epoch: 2 [3000/6228 (48%)]\tLoss: 0.219230\n",
      "Train Epoch: 2 [4000/6228 (64%)]\tLoss: 0.312302\n",
      "Train Epoch: 2 [5000/6228 (80%)]\tLoss: 0.013647\n",
      "Train Epoch: 2 [6000/6228 (96%)]\tLoss: 0.102113\n",
      "\n",
      "Test set: Avg. loss: 0.2812, Accuracy: 779/1558 (50%)\n",
      "\n",
      "Train Epoch: 3 [0/6228 (0%)]\tLoss: 0.087750\n",
      "Train Epoch: 3 [1000/6228 (16%)]\tLoss: 2.033815\n",
      "Train Epoch: 3 [2000/6228 (32%)]\tLoss: 0.000001\n",
      "Train Epoch: 3 [3000/6228 (48%)]\tLoss: 0.184437\n",
      "Train Epoch: 3 [4000/6228 (64%)]\tLoss: 0.340330\n",
      "Train Epoch: 3 [5000/6228 (80%)]\tLoss: 0.012153\n",
      "Train Epoch: 3 [6000/6228 (96%)]\tLoss: 0.060764\n",
      "\n",
      "Test set: Avg. loss: 0.2724, Accuracy: 779/1558 (50%)\n",
      "\n",
      "Train Epoch: 1 [0/6228 (0%)]\tLoss: 1.699914\n",
      "Train Epoch: 1 [1000/6228 (16%)]\tLoss: 0.002320\n",
      "Train Epoch: 1 [2000/6228 (32%)]\tLoss: 0.000008\n",
      "Train Epoch: 1 [3000/6228 (48%)]\tLoss: 1.070843\n",
      "Train Epoch: 1 [4000/6228 (64%)]\tLoss: 0.353029\n",
      "Train Epoch: 1 [5000/6228 (80%)]\tLoss: 0.031696\n",
      "Train Epoch: 1 [6000/6228 (96%)]\tLoss: 0.050228\n",
      "\n",
      "Test set: Avg. loss: 0.3015, Accuracy: 779/1558 (50%)\n",
      "\n",
      "Train Epoch: 2 [0/6228 (0%)]\tLoss: 2.027299\n",
      "Train Epoch: 2 [1000/6228 (16%)]\tLoss: 0.002354\n",
      "Train Epoch: 2 [2000/6228 (32%)]\tLoss: 0.000009\n",
      "Train Epoch: 2 [3000/6228 (48%)]\tLoss: 1.105143\n",
      "Train Epoch: 2 [4000/6228 (64%)]\tLoss: 0.264055\n",
      "Train Epoch: 2 [5000/6228 (80%)]\tLoss: 0.020318\n",
      "Train Epoch: 2 [6000/6228 (96%)]\tLoss: 0.042990\n",
      "\n",
      "Test set: Avg. loss: 0.2969, Accuracy: 779/1558 (50%)\n",
      "\n",
      "Train Epoch: 3 [0/6228 (0%)]\tLoss: 1.639086\n",
      "Train Epoch: 3 [1000/6228 (16%)]\tLoss: 0.002906\n",
      "Train Epoch: 3 [2000/6228 (32%)]\tLoss: 0.000004\n",
      "Train Epoch: 3 [3000/6228 (48%)]\tLoss: 1.170007\n",
      "Train Epoch: 3 [4000/6228 (64%)]\tLoss: 0.210400\n",
      "Train Epoch: 3 [5000/6228 (80%)]\tLoss: 0.017630\n",
      "Train Epoch: 3 [6000/6228 (96%)]\tLoss: 0.037137\n",
      "\n",
      "Test set: Avg. loss: 0.2911, Accuracy: 779/1558 (50%)\n",
      "\n",
      "Train Epoch: 1 [0/6228 (0%)]\tLoss: 0.000000\n",
      "Train Epoch: 1 [1000/6228 (16%)]\tLoss: 0.030809\n",
      "Train Epoch: 1 [2000/6228 (32%)]\tLoss: 0.230315\n",
      "Train Epoch: 1 [3000/6228 (48%)]\tLoss: 0.000000\n",
      "Train Epoch: 1 [4000/6228 (64%)]\tLoss: 0.000002\n",
      "Train Epoch: 1 [5000/6228 (80%)]\tLoss: 0.233219\n",
      "Train Epoch: 1 [6000/6228 (96%)]\tLoss: 0.198747\n",
      "\n",
      "Test set: Avg. loss: 0.2212, Accuracy: 779/1558 (50%)\n",
      "\n",
      "Train Epoch: 2 [0/6228 (0%)]\tLoss: 0.000000\n",
      "Train Epoch: 2 [1000/6228 (16%)]\tLoss: 0.015349\n",
      "Train Epoch: 2 [2000/6228 (32%)]\tLoss: 0.103130\n",
      "Train Epoch: 2 [3000/6228 (48%)]\tLoss: 0.000000\n",
      "Train Epoch: 2 [4000/6228 (64%)]\tLoss: 0.000002\n",
      "Train Epoch: 2 [5000/6228 (80%)]\tLoss: 0.332702\n",
      "Train Epoch: 2 [6000/6228 (96%)]\tLoss: 0.148636\n",
      "\n",
      "Test set: Avg. loss: 0.2145, Accuracy: 779/1558 (50%)\n",
      "\n",
      "Train Epoch: 3 [0/6228 (0%)]\tLoss: 0.000000\n",
      "Train Epoch: 3 [1000/6228 (16%)]\tLoss: 0.011601\n",
      "Train Epoch: 3 [2000/6228 (32%)]\tLoss: 0.080564\n",
      "Train Epoch: 3 [3000/6228 (48%)]\tLoss: 0.000000\n",
      "Train Epoch: 3 [4000/6228 (64%)]\tLoss: 0.000001\n",
      "Train Epoch: 3 [5000/6228 (80%)]\tLoss: 0.218942\n",
      "Train Epoch: 3 [6000/6228 (96%)]\tLoss: 0.107420\n",
      "\n",
      "Test set: Avg. loss: 0.2104, Accuracy: 779/1558 (50%)\n",
      "\n"
     ]
    }
   ],
   "source": [
    "n_epochs = 3\n",
    "train_losses = []\n",
    "train_counter = []\n",
    "test_losses = []\n",
    "test_acc = []\n",
    "test_counter = [i*len(train_loader.dataset) for i in range(n_epochs + 1)]\n",
    "log_interval = 1000\n",
    "\n",
    "\n",
    "for train_index, test_index in sss.split(X_train_res, y_train_res):\n",
    "    X_train_cv, X_test_cv = X_train_res[train_index], X_train_res[test_index]\n",
    "    y_train_cv, y_test_cv = y_train_res[train_index], y_train_res[test_index]\n",
    "    \n",
    "    X_train_tensor = torch.tensor(X_train_cv)\n",
    "    y_train_tensor = torch.IntTensor(y_train_cv.values)\n",
    "    X_test_tensor = torch.tensor(X_test_cv)\n",
    "    y_test_tensor = torch.IntTensor(y_test_cv.values)\n",
    "    # still have no clue why some of these are series while the rest are arrays\n",
    "\n",
    "    train_nn = TensorDataset(X_train_tensor, y_train_tensor)\n",
    "    test_nn = TensorDataset(X_test_tensor, y_test_tensor)\n",
    "    train_loader = torch.utils.data.DataLoader(train_nn)\n",
    "    test_loader = torch.utils.data.DataLoader(test_nn)\n",
    "\n",
    "    for epoch in range(1, n_epochs + 1):\n",
    "      train(epoch)\n",
    "      test()"
   ]
  },
  {
   "cell_type": "code",
   "execution_count": 54,
   "metadata": {},
   "outputs": [
    {
     "name": "stdout",
     "output_type": "stream",
     "text": [
      "mean test accuracy 0.5\n"
     ]
    }
   ],
   "source": [
    "print(\"mean test accuracy\", np.mean(test_acc))"
   ]
  },
  {
   "cell_type": "markdown",
   "metadata": {},
   "source": [
    "## 8. Other Models - SVM"
   ]
  },
  {
   "cell_type": "code",
   "execution_count": 55,
   "metadata": {},
   "outputs": [
    {
     "data": {
      "text/plain": [
       "Pipeline(steps=[('svc', SVC(probability=True))])"
      ]
     },
     "execution_count": 55,
     "metadata": {},
     "output_type": "execute_result"
    }
   ],
   "source": [
    "from sklearn.pipeline import make_pipeline\n",
    "from sklearn.svm import SVC\n",
    "\n",
    "svm = make_pipeline(SVC(probability=True))\n",
    "svm.fit(X_train_res, y_train_res)"
   ]
  },
  {
   "cell_type": "code",
   "execution_count": 56,
   "metadata": {},
   "outputs": [
    {
     "name": "stdout",
     "output_type": "stream",
     "text": [
      "test accuracy: 0.7925636007827789\n",
      "test precision: 0.1504424778761062\n",
      "test recall:  0.6296296296296297\n",
      "test f1 score: 0.24285714285714288\n"
     ]
    },
    {
     "data": {
      "image/png": "[encoded data removed]",
      "text/plain": [
       "<Figure size 432x288 with 2 Axes>"
      ]
     },
     "metadata": {
      "needs_background": "light"
     },
     "output_type": "display_data"
    }
   ],
   "source": [
    "svm_test_pred = svm.predict(X_test)\n",
    "svm_test_acc = metrics.accuracy_score(y_test, svm_test_pred)\n",
    "svm_test_prcn = metrics.precision_score(y_test, svm_test_pred)\n",
    "svm_test_rec = metrics.recall_score(y_test, svm_test_pred)\n",
    "svm_test_f1 = metrics.f1_score(y_test, svm_test_pred)\n",
    "\n",
    "print(\"test accuracy:\", svm_test_acc)\n",
    "print(\"test precision:\", svm_test_prcn)\n",
    "print(\"test recall: \", svm_test_rec)\n",
    "print(\"test f1 score:\", svm_test_f1)\n",
    "\n",
    "draw_confusion_matrix(y_test, svm_test_pred, [0,1])"
   ]
  },
  {
   "cell_type": "code",
   "execution_count": 58,
   "metadata": {},
   "outputs": [
    {
     "name": "stdout",
     "output_type": "stream",
     "text": [
      "test accuracy: 0.7191780821917808\n",
      "test precision: 0.13249211356466878\n",
      "test recall:  0.7777777777777778\n",
      "test f1 score: 0.22641509433962267\n"
     ]
    },
    {
     "data": {
      "image/png": "[encoded data removed]",
      "text/plain": [
       "<Figure size 432x288 with 2 Axes>"
      ]
     },
     "metadata": {
      "needs_background": "light"
     },
     "output_type": "display_data"
    }
   ],
   "source": [
    "svm = make_pipeline(SVC(probability=True))\n",
    "svm.fit(X_train_res_pca5, y_train_res)\n",
    "\n",
    "svm_test_pred = svm.predict(X_test_pca5)\n",
    "svm_test_acc = metrics.accuracy_score(y_test, svm_test_pred)\n",
    "svm_test_prcn = metrics.precision_score(y_test, svm_test_pred)\n",
    "svm_test_rec = metrics.recall_score(y_test, svm_test_pred)\n",
    "svm_test_f1 = metrics.f1_score(y_test, svm_test_pred)\n",
    "\n",
    "print(\"test accuracy:\", svm_test_acc)\n",
    "print(\"test precision:\", svm_test_prcn)\n",
    "print(\"test recall: \", svm_test_rec)\n",
    "print(\"test f1 score:\", svm_test_f1)\n",
    "\n",
    "draw_confusion_matrix(y_test, svm_test_pred, [0,1])"
   ]
  },
  {
   "cell_type": "code",
   "execution_count": null,
   "metadata": {},
   "outputs": [],
   "source": []
  }
 ],
 "metadata": {
  "kernelspec": {
   "display_name": "Python 3",
   "language": "python",
   "name": "python3"
  },
  "language_info": {
   "codemirror_mode": {
    "name": "ipython",
    "version": 3
   },
   "file_extension": ".py",
   "mimetype": "text/x-python",
   "name": "python",
   "nbconvert_exporter": "python",
   "pygments_lexer": "ipython3",
   "version": "3.7.6"
  }
 },
 "nbformat": 4,
 "nbformat_minor": 4
}
